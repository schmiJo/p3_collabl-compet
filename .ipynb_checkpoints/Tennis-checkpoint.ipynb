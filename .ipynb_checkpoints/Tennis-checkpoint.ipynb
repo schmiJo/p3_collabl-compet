{
 "cells": [
  {
   "cell_type": "markdown",
   "metadata": {},
   "source": [
    "# Collaboration and Competition\n",
    "\n",
    "---\n",
    "\n",
    "In this notebook, you will learn how to use the Unity ML-Agents environment for the third project of the [Deep Reinforcement Learning Nanodegree](https://www.udacity.com/course/deep-reinforcement-learning-nanodegree--nd893) program.\n"
   ]
  },
  {
   "cell_type": "markdown",
   "metadata": {},
   "source": [
    "## Make imports and create the agent and the environment"
   ]
  },
  {
   "cell_type": "code",
   "execution_count": 1,
   "metadata": {},
   "outputs": [
    {
     "name": "stderr",
     "output_type": "stream",
     "text": [
      "INFO:unityagents:\n",
      "'Academy' started successfully!\n",
      "Unity Academy name: Academy\n",
      "        Number of Brains: 1\n",
      "        Number of External Brains : 1\n",
      "        Lesson number : 0\n",
      "        Reset Parameters :\n",
      "\t\t\n",
      "Unity brain name: TennisBrain\n",
      "        Number of Visual Observations (per agent): 0\n",
      "        Vector Observation space type: continuous\n",
      "        Vector Observation space size (per agent): 8\n",
      "        Number of stacked Vector Observation: 3\n",
      "        Vector Action space type: continuous\n",
      "        Vector Action space size (per agent): 2\n",
      "        Vector Action descriptions: , \n"
     ]
    },
    {
     "name": "stdout",
     "output_type": "stream",
     "text": [
      "Number of agents: 2\n",
      "Size of each action: 2\n",
      "There are 2 agents. Each observes a state with length: 24\n",
      "The state for the first agent looks like: [ 0.          0.          0.          0.          0.          0.\n",
      "  0.          0.          0.          0.          0.          0.\n",
      "  0.          0.          0.          0.         -6.65278625 -1.5\n",
      " -0.          0.          6.83172083  6.         -0.          0.        ]\n"
     ]
    }
   ],
   "source": [
    "from unityagents import UnityEnvironment\n",
    "import numpy as np\n",
    "\n",
    "env = UnityEnvironment(file_name=\"./Tennis.app\")\n",
    "\n",
    "# get the default brain\n",
    "brain_name = env.brain_names[0]\n",
    "brain = env.brains[brain_name]\n",
    "\n",
    "# reset the environment\n",
    "env_info = env.reset(train_mode=True)[brain_name]\n",
    "\n",
    "# number of agents \n",
    "num_agents = len(env_info.agents)\n",
    "print('Number of agents:', num_agents)\n",
    "\n",
    "# size of each action\n",
    "action_size = brain.vector_action_space_size\n",
    "print('Size of each action:', action_size)\n",
    "\n",
    "# examine the state space \n",
    "states = env_info.vector_observations\n",
    "state_size = states.shape[1]\n",
    "print('There are {} agents. Each observes a state with length: {}'.format(states.shape[0], state_size))\n",
    "print('The state for the first agent looks like:', states[0])\n",
    "\n",
    "import numpy as np\n",
    "from collections import deque\n",
    "import matplotlib.pyplot as plt\n",
    "from agent import AgentList\n",
    "\n",
    "agents = AgentList(state_size= 24, action_size=2, agents_count = 2, random_seed = 0)"
   ]
  },
  {
   "cell_type": "markdown",
   "metadata": {},
   "source": [
    "## Train the agents"
   ]
  },
  {
   "cell_type": "code",
   "execution_count": null,
   "metadata": {},
   "outputs": [
    {
     "name": "stdout",
     "output_type": "stream",
     "text": [
      "Episode 100\tavg Score: 0.00\n",
      "Episode 200\tavg Score: 0.00\n",
      "Episode 300\tavg Score: 0.00\n",
      "Episode 400\tavg Score: 0.00\n",
      "Episode 500\tavg Score: 0.00\n",
      "Episode 600\tavg Score: 0.01\n",
      "Episode 700\tavg Score: 0.00\n",
      "Episode 800\tavg Score: 0.00\n",
      "Episode 900\tavg Score: 0.00\n",
      "Episode 1000\tavg Score: 0.00\n",
      "Episode 1100\tavg Score: 0.01\n",
      "Episode 1200\tavg Score: 0.00\n",
      "Episode 1300\tavg Score: 0.02\n",
      "Episode 1400\tavg Score: 0.01\n",
      "Episode 1500\tavg Score: 0.02\n",
      "Episode 1600\tavg Score: 0.04\n",
      "Episode 1700\tavg Score: 0.09\n",
      "Episode 1800\tavg Score: 0.17\n",
      "Episode 1900\tavg Score: 0.18\n",
      "Episode 2000\tavg Score: 0.13\n",
      "Episode 2100\tavg Score: 1.14\n",
      "Episode 2183\tavg Score: 1.37"
     ]
    }
   ],
   "source": [
    "\n",
    "def ddpg(n_episodes: int =  6000, max_actions:int = 15000 ):\n",
    "    scores = []\n",
    "    scores_window= deque(maxlen=100)\n",
    "    \n",
    "    \n",
    "    for i_episode in range(1,n_episodes+1):\n",
    "        \n",
    "        #reset the environment for every episode and initialize the state\n",
    "        #step_brain_info = env.reset(train_mode=i_episode % 100 != 0)[brain_name] # reset the environment\n",
    "        step_brain_info = env.reset(train_mode=True)[brain_name] # reset the environment\n",
    "        \n",
    "        agents.reset_noise()\n",
    "        \n",
    "        states = step_brain_info.vector_observations   #obtain the starting state\n",
    "        \n",
    "        score_0 = 0 #initialze the score for the episode\n",
    "        score_1 = 0 #initialze the score for the episode\n",
    "        \n",
    "        \n",
    "        for a in range(max_actions):\n",
    "            \n",
    "            #The agent chooses an action\n",
    "            # after 200 episodes the actor should not add noise to the action to create a more stable agent\n",
    "            actions = agents.act(states, add_noise=i_episode < 1000)\n",
    "            \n",
    "            step_brain_info = env.step(actions)[brain_name]\n",
    "            \n",
    "            next_states: np.ndarray = step_brain_info.vector_observations   # get the next state\n",
    "            rewards = step_brain_info.rewards                   # get the reward\n",
    "            dones = step_brain_info.local_done                  # see if episode has finished\n",
    "            \n",
    "            score_0 += rewards[0]\n",
    "            score_1 += rewards[1]\n",
    "            \n",
    "            #Take a step and learn from the s,a,r,s,d pair\n",
    "            agents.step(states, actions, rewards, next_states, dones)\n",
    "             \n",
    "            states = next_states                             # roll over the state to next time step\n",
    "            if agents.is_all_done(dones):                             # exit loop if episode finished\n",
    "                break\n",
    "                \n",
    "            if env.global_done:\n",
    "                print('Global Done Steps: '+ str(a))\n",
    "                break\n",
    "        \n",
    "        bigger_score = max([score_0, score_1])\n",
    "        scores.append(bigger_score)\n",
    "        scores_window.append(bigger_score)       # save most recent score\n",
    "\n",
    "        \n",
    "        print('\\rEpisode {}\\tavg Score: {:.2f}'.format(i_episode, np.mean(scores_window)), end=\"\")\n",
    "        \n",
    "        if i_episode % 100 == 0:\n",
    "            print('\\rEpisode {}\\tavg Score: {:.2f}'.format(i_episode, np.mean(scores_window)))\n",
    "        if np.mean(scores_window)>=5:\n",
    "            print('\\nEnvironment solved in {:d} episodes!\\tAverage Score: {:.2f}'.format(i_episode, np.mean(scores_window)))\n",
    "            #torch.save(agent.qnetwork_local.state_dict(), 'checkpoint.pth')\n",
    "            break\n",
    "            \n",
    "    \n",
    "    return scores\n",
    "            \n",
    "    \n",
    "scores =  ddpg()\n",
    "# plot the scores\n",
    "fig = plt.figure()\n",
    "ax = fig.add_subplot(111)\n",
    "plt.plot(np.arange(len(scores)), scores)\n",
    "plt.ylabel('Score')\n",
    "plt.xlabel('Episode #')\n",
    "plt.show() "
   ]
  },
  {
   "cell_type": "code",
   "execution_count": 4,
   "metadata": {},
   "outputs": [],
   "source": [
    "# Save the weights\n",
    "agents.save_state()"
   ]
  },
  {
   "cell_type": "markdown",
   "metadata": {},
   "source": [
    "# See the trained agent in action"
   ]
  },
  {
   "cell_type": "code",
   "execution_count": null,
   "metadata": {},
   "outputs": [],
   "source": [
    "# restore weights\n",
    "agents.restore_state()"
   ]
  },
  {
   "cell_type": "code",
   "execution_count": 17,
   "metadata": {},
   "outputs": [],
   "source": [
    "\n",
    "\n",
    "\n",
    "n_episodes = 2\n",
    "for i_episode in range(1,n_episodes+1):\n",
    "      #reset the environment for every episode and initialize the state\n",
    "    #step_brain_info = env.reset(train_mode=i_episode % 100 != 0)[brain_name] # reset the environment\n",
    "    step_brain_info = env.reset(train_mode=False)[brain_name] # reset the environment\n",
    "        \n",
    "    agents.reset_noise()\n",
    "        \n",
    "    states = step_brain_info.vector_observations   #obtain the starting state\n",
    "        \n",
    "    score_0 = 0 #initialze the score for the episode\n",
    "    score_1 = 0 #initialze the score for the episode\n",
    "        \n",
    "        \n",
    "    for a in range(5000):\n",
    "            \n",
    "        #The agent chooses an action\n",
    "        # after 200 episodes the actor should not add noise to the action to create a more stable agent\n",
    "        actions = agents.act(states, add_noise=i_episode < 1000)\n",
    "            \n",
    "        step_brain_info = env.step(actions)[brain_name]\n",
    "            \n",
    "        next_states: np.ndarray = step_brain_info.vector_observations   # get the next state\n",
    "        rewards = step_brain_info.rewards                   # get the reward\n",
    "        dones = step_brain_info.local_done                  # see if episode has finished\n",
    "            \n",
    "        score_0 += rewards[0]\n",
    "        score_1 += rewards[1]\n",
    "        \n",
    "        #Take a step and learn from the s,a,r,s,d pair\n",
    "        agents.step(states, actions, rewards, next_states, dones)\n",
    "         \n",
    "        states = next_states                             # roll over the state to next time step\n",
    "        if agents.is_all_done(dones):                             # exit loop if episode finished\n",
    "            break\n",
    "            \n",
    "        if env.global_done:\n",
    "            print('Global Done Steps: '+ str(a))\n",
    "            break\n",
    "            \n",
    "            \n",
    "        "
   ]
  },
  {
   "cell_type": "code",
   "execution_count": null,
   "metadata": {},
   "outputs": [],
   "source": [
    "env.close()"
   ]
  }
 ],
 "metadata": {
  "kernelspec": {
   "display_name": "drlnd",
   "language": "python",
   "name": "drlnd"
  },
  "language_info": {
   "codemirror_mode": {
    "name": "ipython",
    "version": 3
   },
   "file_extension": ".py",
   "mimetype": "text/x-python",
   "name": "python",
   "nbconvert_exporter": "python",
   "pygments_lexer": "ipython3",
   "version": "3.6.13"
  }
 },
 "nbformat": 4,
 "nbformat_minor": 2
}
